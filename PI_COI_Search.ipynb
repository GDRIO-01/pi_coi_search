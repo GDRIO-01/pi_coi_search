{
 "cells": [
  {
   "cell_type": "code",
   "execution_count": 1,
   "id": "3d4b60c5-a887-48be-b34d-e7eecf0ce4dc",
   "metadata": {},
   "outputs": [],
   "source": [
    "import pandas as pd"
   ]
  },
  {
   "cell_type": "code",
   "execution_count": 2,
   "id": "2dac7941-ec95-40c3-a3e6-461d6e8c3ac0",
   "metadata": {},
   "outputs": [],
   "source": [
    "applications = pd.read_csv('Applications_Ash.csv')"
   ]
  },
  {
   "cell_type": "code",
   "execution_count": 3,
   "id": "e76f2668-bf30-4c17-aa99-ecf781fc0278",
   "metadata": {},
   "outputs": [],
   "source": [
    "grants = pd.read_csv('Grants_Ash.csv')"
   ]
  },
  {
   "cell_type": "code",
   "execution_count": 4,
   "id": "0f1a83ba-16bd-4807-9e02-98c263bb9269",
   "metadata": {},
   "outputs": [],
   "source": [
    "#please input the GTL's name in the square brackets below e.g. 'Finn':\n",
    "names_to_check = ['McEntyre']\n",
    "pattern = '|'.join(names_to_check)\n",
    "pi_coi_apps = applications[applications['PI Name'].str.contains(pattern) | applications['Participant List'].str.contains(pattern)]\n",
    "pi_coi_grants = grants[grants['PI Name'].str.contains(pattern) | grants['List of participants (for short description)'].str.contains(pattern)]"
   ]
  },
  {
   "cell_type": "code",
   "execution_count": 5,
   "id": "83ddff8d-2fb8-4beb-8296-e6d0e688a146",
   "metadata": {},
   "outputs": [],
   "source": [
    "apps_by_status = pi_coi_apps.groupby('Status')[['CONVERIS ID', 'Acronym', 'PI Name']]\n",
    "grants_by_status = pi_coi_grants.groupby('Status')[['CONVERIS ID', 'Acronym', 'PI Name']]"
   ]
  },
  {
   "cell_type": "code",
   "execution_count": 6,
   "id": "8004e52a-c9ab-4574-8949-9e58c59c61ef",
   "metadata": {},
   "outputs": [
    {
     "name": "stdout",
     "output_type": "stream",
     "text": [
      "Status: Awarded\n",
      " CONVERIS ID                           Acronym          PI Name\n",
      "        3868                   ELIXIR-CONVERGE  Niklas Blomberg\n",
      "        3391                            EJP RD  Niklas Blomberg\n",
      "        2146              ERC-EuropePMC-2-2014 Johanna McEntyre\n",
      "        4136                     EBI-2019-EDP3 Johanna McEntyre\n",
      "        3430                           EMERALD      Robert Finn\n",
      "        4696                        OTAR02-056 Johanna McEntyre\n",
      "        2145                              THOR Johanna McEntyre\n",
      "        2140                UKPMC 2 Supplement Johanna McEntyre\n",
      "        2144                    OpenAIRE H2020 Johanna McEntyre\n",
      "        2376                   CTTV-literature Johanna McEntyre\n",
      "        6619                       Block Award Johanna McEntyre\n",
      "        4137                     EBI-2019-EDP4 Johanna McEntyre\n",
      "        4614         Europe PMC - COVID-19 PPR Johanna McEntyre\n",
      "        6165             EBI-2023-BIODIVERSITY Johanna McEntyre\n",
      "        4561               COVID-19 web portal Johanna McEntyre\n",
      "        3304    Text mining grant attributions Johanna McEntyre\n",
      "        4555              Europe PMC 2021-2026 Johanna McEntyre\n",
      "        4702                     UKRI CoA fund Johanna McEntyre\n",
      "        2445                        Europe PMC Johanna McEntyre\n",
      "        4135                     EBI-2019-EDP2 Johanna McEntyre\n",
      "        3079                             FREYA Johanna McEntyre\n",
      "        6111 Preparatory and ChEMBL/EVA Bridge Johanna McEntyre\n",
      "        4192                      COFUND_ARISE        Peer Bork\n",
      "\n",
      "\n",
      "Status: Unsuccessful\n",
      " CONVERIS ID         Acronym          PI Name\n",
      "        3023      BioStudies Johanna McEntyre\n",
      "        2993        F11_Cite Johanna McEntyre\n",
      "        2979            OPSI     Alvis Brazma\n",
      "        3384 BioStudies 2018 Johanna McEntyre\n",
      "\n",
      "\n",
      "Status: Withdrawn\n",
      " CONVERIS ID   Acronym          PI Name\n",
      "        3114 Preprints Johanna McEntyre\n",
      "        4552  PeerLake Johanna McEntyre\n",
      "\n",
      "\n"
     ]
    }
   ],
   "source": [
    "for status, group in apps_by_status:\n",
    "    print(f\"Status: {status}\")\n",
    "    print(group.to_string(index=False))\n",
    "    print(\"\\n\")"
   ]
  },
  {
   "cell_type": "code",
   "execution_count": 7,
   "id": "07efcfa9-4700-40f7-9e5c-92dc8cc8ba4b",
   "metadata": {},
   "outputs": [
    {
     "name": "stdout",
     "output_type": "stream",
     "text": [
      "Status: Closed\n",
      " CONVERIS ID                        Acronym             PI Name\n",
      "        3868                ELIXIR-CONVERGE        Andrew Smith\n",
      "        4135                  EBI-2019-EDP2    Johanna McEntyre\n",
      "        6165          EBI-2023-BIODIVERSITY    Johanna McEntyre\n",
      "        4137                  EBI-2019-EDP4    Johanna McEntyre\n",
      "        4696                     OTAR02-056    Johanna McEntyre\n",
      "        4136                  EBI-2019-EDP3    Johanna McEntyre\n",
      "        1251                          SLING      Graham Cameron\n",
      "        1514                        UKPMC 2    Johanna McEntyre\n",
      "        2376             OTAR025-Literature    Johanna McEntyre\n",
      "        1466               UKPMC Supplement    Johanna McEntyre\n",
      "        3079                          FREYA    Johanna McEntyre\n",
      "        3430                        EMERALD         Robert Finn\n",
      "        2145                           THOR    Johanna McEntyre\n",
      "        2140       UKPMC 2 BOOKS Supplement    Johanna McEntyre\n",
      "        2445                     Europe PMC    Johanna McEntyre\n",
      "        1568               Phenominer(WP11)    Johanna McEntyre\n",
      "        1331                       OpenAIRE    Johanna McEntyre\n",
      "        4561            COVID-19 web portal    Johanna McEntyre\n",
      "        3304 Text mining grant attributions    Johanna McEntyre\n",
      "        2395              ELIXIR-EXCELERATE     Niklas Blomberg\n",
      "        2146           ERC-EuropePMC-2-2014    Johanna McEntyre\n",
      "        1548                         Mantra    Johanna McEntyre\n",
      "        4702                  UKRI CoA fund    Johanna McEntyre\n",
      "        1498                   OpenAirePlus    Johanna McEntyre\n",
      "        4614      Europe PMC - COVID-19 PPR    Johanna McEntyre\n",
      "        2144                   OpenAIRE2020    Johanna McEntyre\n",
      "        1476      UKPMC Services (Contract)    Johanna McEntyre\n",
      "        3391                         EJP RD Juan Arenas Marquez\n",
      "\n",
      "\n",
      "Status: In Progress\n",
      " CONVERIS ID     Acronym          PI Name\n",
      "        6619 Block Award Johanna McEntyre\n",
      "\n",
      "\n",
      "Status: Live\n",
      " CONVERIS ID                           Acronym          PI Name\n",
      "        4192                      COFUND_ARISE        Peer Bork\n",
      "        4555              Europe PMC 2021-2026 Johanna McEntyre\n",
      "        6111 Preparatory and ChEMBL/EVA Bridge Johanna McEntyre\n",
      "        2023                  RCUK Open Access Johanna McEntyre\n",
      "\n",
      "\n"
     ]
    }
   ],
   "source": [
    "for status, group in grants_by_status:\n",
    "    print(f\"Status: {status}\")\n",
    "    print(group.to_string(index=False))\n",
    "    print(\"\\n\")"
   ]
  },
  {
   "cell_type": "code",
   "execution_count": 8,
   "id": "3a8efc07-537a-42d2-9e32-441fac882b63",
   "metadata": {},
   "outputs": [],
   "source": [
    "#print(pi_coi_apps[['CONVERIS ID', 'Acronym', 'PI Name']].to_string(index=False))"
   ]
  },
  {
   "cell_type": "code",
   "execution_count": 9,
   "id": "9125f047-52c6-4a0b-98c9-33b4799531e4",
   "metadata": {},
   "outputs": [],
   "source": [
    "#print(pi_coi_grants[['CONVERIS ID', 'Acronym', 'PI Name']].to_string(index=False))"
   ]
  }
 ],
 "metadata": {
  "kernelspec": {
   "display_name": "Python 3 (ipykernel)",
   "language": "python",
   "name": "python3"
  },
  "language_info": {
   "codemirror_mode": {
    "name": "ipython",
    "version": 3
   },
   "file_extension": ".py",
   "mimetype": "text/x-python",
   "name": "python",
   "nbconvert_exporter": "python",
   "pygments_lexer": "ipython3",
   "version": "3.12.7"
  }
 },
 "nbformat": 4,
 "nbformat_minor": 5
}
